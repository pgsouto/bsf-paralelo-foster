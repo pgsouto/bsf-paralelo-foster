{
 "cells": [
  {
   "cell_type": "markdown",
   "id": "d9adfdfe",
   "metadata": {},
   "source": [
    "# Trabalho de paralelismo\n",
    "### Simulação de Monte Carlo para aproximação de PI\n",
    "--- "
   ]
  },
  {
   "cell_type": "markdown",
   "id": "89689785",
   "metadata": {},
   "source": [
    "## Introdução ao problema\n",
    "\n",
    "A simulação de Monte Carlo é uma técnica estatística que utiliza amostragem aleatória para prever resultados em situações incertas permitindo análise mais fundamentada de riscos e proporcionando a tomada de decisões mais informadas.\n",
    "\n",
    "A técnica de Monte Carlo será utilizada para o seguinte problema de natureza geométrica: dado um quadrado de lado igual a uma unidade (1) desenha-se dentro dele um quarto de um círculo.\n",
    "\n",
    "![Imagem Ilustrativa do problema](/assets/image.png)\n",
    "\n",
    "Ao inserir pontos aletórios dentro do quadrado, alguns pontos podem estar dentro do círculo enquanto outros podem estar fora. A proporção de pontos dentro do círculo em relação ao total é igual a razão entre a área do círculo e a área do quadrado. \n",
    "\n",
    "Em termos matemáticos:\n",
    "\n",
    "$$\n",
    "\\text{ Área do círculo (contida no quadrado) } = \\frac{πr^{2}}{4}, r = 1\n",
    "$$\n",
    "$$\n",
    "\\text{ Área do quadrado } = 1^2 = 1\n",
    "$$\n",
    "$$\n",
    "\\frac{\\text{ Área do círculo }}{\\text{ Área do quadrado }} = \\frac{π}{4}\n",
    "$$\n",
    "\n",
    "Logo, se **P** é a probabilidade de um ponto cair dentro do círculo então:\n",
    "\n",
    "$$\n",
    "P ≈ \\frac{π}{4}\n",
    "$$\n",
    "$$\n",
    "π ≈ 4P  \n",
    "$$\n",
    "$$\n",
    "\\text{ ou }\n",
    "$$\n",
    "$$\n",
    " π ≈ 4 \\frac{\\text{ Nº de pontos dentro do círculo }}{\\text{ Total de pontos }}\n",
    "$$\n",
    "\n",
    "Portanto, cabe usar a técnica de Monte Carlo para geração de pontos aleatórios com fim de estimar o valor de π. A seguir serão apresentadas as abordagens serial e paralelizada do problema seguidas de análises a respeito da eficiência de cada implementação.\n",
    "\n",
    "---\n",
    "\n",
    "## Implementação"
   ]
  },
  {
   "cell_type": "code",
   "execution_count": 16,
   "id": "6ded0d9e",
   "metadata": {},
   "outputs": [],
   "source": [
    "import random\n",
    "import time\n",
    "from concurrent.futures import ThreadPoolExecutor\n",
    "\n",
    "def contar_pontos_circulo(num_pontos):\n",
    "    dentro_circulo = 0\n",
    "    for _ in range (num_pontos):\n",
    "        x = random.random()\n",
    "        y = random.random()\n",
    "        if x*x + y*y <=1 :\n",
    "            dentro_circulo += 1\n",
    "    return dentro_circulo"
   ]
  },
  {
   "cell_type": "markdown",
   "id": "7c70222e",
   "metadata": {},
   "source": [
    "### Breve explicação: equação do círculo\n",
    "\n",
    "A condicional presente no método de contagem dos pontos é baseada na seguinte équação de círculo de raio **r** centrado na origem (0,0):\n",
    "$$\n",
    "x^2 + y^2 = r^2\n",
    "$$\n",
    "\n",
    "Isso significa que qualquer ponto no plano que satisfaz a seguinte inequação está dentro ou sobre o círculo para r = 1:\n",
    "$$\n",
    "x^2 + y^2 \\le 1\n",
    "$$\n"
   ]
  },
  {
   "cell_type": "markdown",
   "id": "82ed845d",
   "metadata": {},
   "source": [
    "## Versão serial"
   ]
  },
  {
   "cell_type": "code",
   "execution_count": 20,
   "id": "a02c5c1d",
   "metadata": {},
   "outputs": [
    {
     "name": "stdout",
     "output_type": "stream",
     "text": [
      "π ≈ 3.1416181236363636\n",
      "Tempo serial: 48.36 segundos\n"
     ]
    }
   ],
   "source": [
    "if __name__ == \"__main__\":\n",
    "    total_pontos = 275_000_000\n",
    "\n",
    "    inicio = time.time()\n",
    "    dentro_circulo_total = contar_pontos_circulo(total_pontos)\n",
    "    pi = 4 * dentro_circulo_total / total_pontos\n",
    "    fim = time.time()\n",
    "\n",
    "    resultado_serial = round(fim - inicio,4)\n",
    "\n",
    "    print(f\"π ≈ {pi}\")\n",
    "    print(f\"Tempo serial: {fim - inicio:.2f} segundos\")\n"
   ]
  },
  {
   "cell_type": "markdown",
   "id": "a9ac8a1d",
   "metadata": {},
   "source": [
    "---\n",
    "\n",
    "## Versão paralela"
   ]
  },
  {
   "cell_type": "code",
   "execution_count": null,
   "id": "9d34b88b",
   "metadata": {},
   "outputs": [
    {
     "name": "stdout",
     "output_type": "stream",
     "text": [
      "π ≈ 3.141537072\n",
      "Tempo paralelo: 41.09 segundos\n"
     ]
    }
   ],
   "source": [
    "if __name__ == \"__main__\":\n",
    "    total_pontos = 275_000_000\n",
    "    n_processos = 4\n",
    "    pontos_por_processo = total_pontos // n_processos\n",
    "\n",
    "    inicio = time.time()\n",
    "    with ThreadPoolExecutor(max_workers=n_processos) as executor:\n",
    "        resultados = list(executor.map(contar_pontos_circulo, [pontos_por_processo]*n_processos))\n",
    "    dentro_circulo_total = sum(resultados)\n",
    "\n",
    "    pi = 4 * dentro_circulo_total / total_pontos\n",
    "    fim = time.time()\n",
    "\n",
    "    resultado_paralelo = round(fim - inicio,4)\n",
    "    \n",
    "    print(f\"π ≈ {pi}\")\n",
    "    print(f\"Tempo paralelo: {fim - inicio:.2f} segundos\")"
   ]
  },
  {
   "cell_type": "code",
   "execution_count": 21,
   "id": "6eba7037",
   "metadata": {},
   "outputs": [
    {
     "name": "stdout",
     "output_type": "stream",
     "text": [
      "Diferença em segundos: 7.271000000000001\n"
     ]
    }
   ],
   "source": [
    "diferenca_resultados = resultado_serial - resultado_paralelo\n",
    "print(f\"Diferença em segundos: {diferenca_resultados}\")"
   ]
  }
 ],
 "metadata": {
  "kernelspec": {
   "display_name": "Python 3",
   "language": "python",
   "name": "python3"
  },
  "language_info": {
   "codemirror_mode": {
    "name": "ipython",
    "version": 3
   },
   "file_extension": ".py",
   "mimetype": "text/x-python",
   "name": "python",
   "nbconvert_exporter": "python",
   "pygments_lexer": "ipython3",
   "version": "3.13.5"
  }
 },
 "nbformat": 4,
 "nbformat_minor": 5
}
