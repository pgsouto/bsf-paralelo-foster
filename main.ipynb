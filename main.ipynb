{
 "cells": [
  {
   "cell_type": "markdown",
   "id": "d9adfdfe",
   "metadata": {},
   "source": [
    "# Trabalho de paralelismo\n",
    "### Simulação de Monte Carlo para aproximação de PI\n",
    "--- "
   ]
  },
  {
   "cell_type": "markdown",
   "id": "89689785",
   "metadata": {},
   "source": [
    "## Introdução ao problema\n",
    "\n",
    "A simulação de Monte Carlo é uma técnica estatística que utiliza amostragem aleatória para prever resultados em situações incertas permitindo análise mais fundamentada de riscos e proporcionando a tomada de decisões mais informadas.\n",
    "\n",
    "A técnica de Monte Carlo será utilizada para o seguinte problema de natureza geométrica: dado um quadrado de lado igual a uma unidade (1) desenha-se dentro dele um quarto de um círculo.\n",
    "\n",
    "![Imagem Ilustrativa do problema](/assets/image.png)\n",
    "\n",
    "Ao inserir pontos aletórios dentro do quadrado, alguns pontos podem estar dentro do círculo enquanto outros podem estar fora. A proporção de pontos dentro do círculo em relação ao total é igual a razão entre a área do círculo e a área do quadrado. \n",
    "\n",
    "Em termos matemáticos:\n",
    "\n",
    "$$\n",
    "\\text{ Área do círculo (contida no quadrado) } = \\frac{πr^{2}}{4}, r = 1\n",
    "$$\n",
    "$$\n",
    "\\text{ Área do quadrado } = 1^2 = 1\n",
    "$$\n",
    "$$\n",
    "\\frac{\\text{ Área do círculo }}{\\text{ Área do quadrado }} = \\frac{π}{4}\n",
    "$$\n",
    "\n",
    "Logo, se **P** é a probabilidade de um ponto cair dentro do círculo então:\n",
    "\n",
    "$$\n",
    "P ≈ \\frac{π}{4}\n",
    "$$\n",
    "$$\n",
    "π ≈ 4P  \n",
    "$$\n",
    "$$\n",
    "\\text{ ou }\n",
    "$$\n",
    "$$\n",
    " π ≈ 4 \\frac{\\text{ Nº de pontos dentro do círculo }}{\\text{ Total de pontos }}\n",
    "$$\n",
    "\n",
    "Portanto, cabe usar a técnica de Monte Carlo para geração de pontos aleatórios com fim de estimar o valor de π. A seguir serão apresentadas as abordagens serial e paralelizada do problema seguidas de análises a respeito da eficiência de cada implementação.\n",
    "\n",
    "---\n",
    "\n",
    "## Implementação"
   ]
  },
  {
   "cell_type": "markdown",
   "id": "036d0848",
   "metadata": {},
   "source": [
    "```python\n",
    "# ================================\n",
    "# FUNÇÃO\n",
    "# ================================\n",
    "import random\n",
    "\n",
    "def contar_pontos_circulo(num_pontos):\n",
    "    dentro_circulo = 0\n",
    "    for _ in range(num_pontos):\n",
    "        x = random.random()\n",
    "        y = random.random()\n",
    "        if x*x + y*y <= 1:\n",
    "            dentro_circulo += 1\n",
    "    return dentro_circulo\n"
   ]
  },
  {
   "cell_type": "markdown",
   "id": "7c70222e",
   "metadata": {},
   "source": [
    "### Breve explicação: equação do círculo\n",
    "\n",
    "A condicional presente no método de contagem dos pontos é baseada na seguinte équação de círculo de raio **r** centrado na origem (0,0):\n",
    "$$\n",
    "x^2 + y^2 = r^2\n",
    "$$\n",
    "\n",
    "Isso significa que qualquer ponto no plano que satisfaz a seguinte inequação está dentro ou sobre o círculo para r = 1:\n",
    "$$\n",
    "x^2 + y^2 \\le 1\n",
    "$$\n"
   ]
  },
  {
   "cell_type": "markdown",
   "id": "82ed845d",
   "metadata": {},
   "source": [
    "## Versão serial"
   ]
  },
  {
   "cell_type": "markdown",
   "id": "a02c5c1d",
   "metadata": {},
   "source": [
    "```python\n",
    "import time\n",
    "\n",
    "if __name__ == \"__main__\":\n",
    "    total_pontos_serial = 250_000_000\n",
    "\n",
    "    inicio_serial = time.time()\n",
    "    dentro_circulo_total_serial = contar_pontos_circulo(total_pontos_serial)\n",
    "    pi_serial = 4 * dentro_circulo_total_serial / total_pontos_serial\n",
    "    fim_serial = time.time()\n",
    "\n",
    "    print(f\"π ≈ {pi_serial} (serial)\")\n",
    "    print(f\"Tempo serial: {fim_serial - inicio_serial:.2f} segundos\")\n"
   ]
  },
  {
   "cell_type": "markdown",
   "id": "70059041",
   "metadata": {},
   "source": [
    "### Avaliação da Execução Serial\n",
    "\n",
    "**1. Qual foi o tempo de execução do seu algoritmo em modo serial? Como você\n",
    "mediu esse tempo?** \n",
    "> O tempo de execução resultante obtido foi cerca de 86,04 segundos para 250 milhões de pontos gerados. O tempo de exeucução foi medido usando a biblioteca `time` do python da seguinte maneira: o tempo de íncio foi registrado na variável de nome `incio_serial` seguido da chamada do método `contar_pontos_circulo()` para calcular o valor estimado de pi logo após. Por fim, foi registrado o tempo atual na variável `fim_serial` e o tempo serial foi apresentado no final do código como uma diferença entre o tempo inicial e o tempo final.\n",
    "\n",
    "**2. Quais aspectos do algoritmo você percebe que se beneficiariam de uma\n",
    "abordagem paralela?** \n",
    "> Para uma quantidade de pontos suficientemente grande, a tarefa de contagem dos pontos dentro do círculo pode se beneficiar com a implementação do paralelismo visto que possui complexidade linear que cresce conforme o número de pontos gerados aumenta e esse método define a complexidade do código, pois as demais linhas de código são consideravelmente simples. Além disso, a geração dos pontos dentro do método é independente, podendo ser facilmente paralelizada.\n",
    "\n",
    "**3. Você utilizou alguma técnica de otimização no código serial para reduzir o\n",
    "tempo de execução? Se sim, quais?**\n",
    "> Não houve otimização do código serial\n",
    "\n",
    "**4. O seu código serial apresenta alguma limitação de desempenho que poderia ser\n",
    "resolvida por computação paralela? Explique.**\n",
    "> Sim, a quantidade de pontos gerados e verificados pode ser dividida entre processos para diminuir o tempo de execução do código.\n",
    "\n",
    "**5. Como você validou os resultados da execução serial? Existe alguma verificação\n",
    "de consistência no seu código?**\n",
    "> Atualmente, a validação é implícita, baseada na proximidade do resultado com π esperado.\n",
    "\n",
    "**6. Você teve dificuldades ao implementar o código serial? Quais desafios você\n",
    "enfrentou?**\n",
    "> Não houveram dificuldades durante a implementação do código serial. No entanto, houve um desafio inicial durante o planejamento do código com base na problemática abordada.\n",
    "\n",
    "**7. Quais foram os principais bottlenecks identificados na execução serial do seu\n",
    "programa?**\n",
    "> Os principais gargalos que limitam o desempenho do código estão na geração dos pontos aleatórios e verificação de pontos dentro do círculo dentro laço feito para contabilizar os pontos que possuem complexidade linear relacionada à quantidade de pontos que se deseja gerar\n",
    "\n",
    "**8. O que você aprendeu sobre a relação entre a eficiência da execução serial e o\n",
    "uso de recursos computacionais (tempo de CPU, memória)?**\n",
    "> Foi observado que dentro da execução serial, a carga total do código é sequencialmente computacionada e o tempo total cresce linearmente conforme o número de pontos aumenta. Já a memória não aparentou ser um fator prejudicial para a eficiência do código."
   ]
  },
  {
   "cell_type": "markdown",
   "id": "a9ac8a1d",
   "metadata": {},
   "source": [
    "---\n",
    "\n",
    "## Versão paralela"
   ]
  },
  {
   "cell_type": "markdown",
   "id": "9d34b88b",
   "metadata": {},
   "source": [
    "```python\n",
    "from multiprocessing import Pool\n",
    "import time\n",
    "\n",
    "if __name__ == \"__main__\":\n",
    "    total_pontos = 250_000_000\n",
    "    n_processos = 4\n",
    "    pontos_por_processo = total_pontos // n_processos\n",
    "\n",
    "    inicio_paralelo = time.time()\n",
    "    with Pool(n_processos) as pool:\n",
    "        resultados = pool.map(contar_pontos_circulo, [pontos_por_processo]*n_processos)\n",
    "\n",
    "    dentro_circulo_total = sum(resultados)\n",
    "    pi_paralelo = 4 * dentro_circulo_total / total_pontos\n",
    "    fim_paralelo = time.time()\n",
    "\n",
    "    print(f\"π ≈ {pi_paralelo} (paralelo)\")\n",
    "    print(f\"Tempo paralelo: {fim_paralelo - inicio_paralelo:.2f} segundos\")\n"
   ]
  },
  {
   "cell_type": "markdown",
   "id": "e40d910e",
   "metadata": {},
   "source": [
    "### Avaliação da execução paralela\n",
    "\n",
    "**9. Qual foi o tempo de execução do seu algoritmo em modo paralelo? Como você\n",
    "mediu esse tempo?**\n",
    "> O tempo de execução do algoritmo em modo paralelo foi consideravelmente menor do que no modo serial, dependendo do número de processos utilizados. No caso com 4 processos, o tempo de execução obtido foi cerca de 23,31 segundos para 250 milhões de pontos gerados. O tempo foi medido utilizando a biblioteca `time` do Python, da seguinte forma: o tempo de início foi registrado na variável `inicio_paralelo` imediatamente antes de iniciar a execução dos processos com o `Pool.map()`. Após a conclusão do cálculo e soma dos resultados parciais, o tempo atual foi registrado na variável `fim_paralelo`. O tempo total de execução paralela foi então obtido como a diferença entre `fim_paralelo` e `inicio_paralelo` e apresentado no final do código\n",
    "\n",
    "**10. Quais recursos você utilizou para implementar o paralelismo? (Ex: threads,\n",
    "processos, multiprocessing, etc.)**\n",
    "> A biblioteca multiprocessing do python foi utilizada para implementação do paralelismo. Utilizamos a classe Pool que permite criar uma pool de processos para executar as tarefas em paralelo. Além disso utilizou-se processos ao invés de threads na implementação do código.\n",
    "\n",
    "**11. Como você adaptou o código serial para uma execução paralela? Houve alguma\n",
    "reestruturação significativa?**\n",
    "> Sim, para a implementação de um modelo paralelizado, houve a necessidade de se definir variáveis do número de processos e de pontos por processo. Em seguida, `with Pool(n_processos) as pool:` cria uma instância que recebe o número de processos como argumento da variável `pool` e então `pool.map()` recebe como primeiro parâmetro a função a ser executada e como segundo parâmetro a lista de de valores que serão passados para cada processo (a carga está balanceada). Por fim a variável `dentro_circulo_total` agrega os valores obtidos por cada processo.\n",
    "\n",
    "**12. Você implementou alguma técnica de sincronização entre os processos ou\n",
    "threads paralelos? Como ela foi aplicada?\n",
    "**\n",
    "> Não há sincronização implementada visto que na problemática que a paralelização se propõe a resolver, os valores podem ser obtidos independentemente pois não há risco de conflitos.\n",
    "\n",
    "**13. Quais benefícios você observou ao aplicar a computação paralela em relação à\n",
    "execução serial?\n",
    "**\n",
    "> O tempo de execução foi consideravelmente menor em relação à implementação serial. \n",
    "\n",
    "**14. Como a metodologia de Foster influenciou sua abordagem para a\n",
    "implementação paralela? Você seguiu os princípios dessa metodologia?\n",
    "**\n",
    "> A metodologia influenciou na implementação principalmente com relação à divisão das tarefas em subproblemas independentes, Além do paralelismo de dados ao dividir a carga entre 4 processadores de forma balanceada.\n",
    "\n",
    "**15. O que você aprendeu com a comparação de desempenho entre a execução serial\n",
    "e paralela? Como a diferença de tempo de execução se reflete no desempenho do\n",
    "sistema paralelo?**\n",
    "> Os resultados obtidos a partir das implementações serial e paralela mostram que para cenários como o de simulação de Monte Carlo, onde se costuma ter valores suficientemente grandes para gerar boas estimações estatísticas, a abordagem paralela aumenta o desempenho pela diminuição do tempo de execução."
   ]
  }
 ],
 "metadata": {
  "kernelspec": {
   "display_name": "Python 3",
   "language": "python",
   "name": "python3"
  },
  "language_info": {
   "codemirror_mode": {
    "name": "ipython",
    "version": 3
   },
   "file_extension": ".py",
   "mimetype": "text/x-python",
   "name": "python",
   "nbconvert_exporter": "python",
   "pygments_lexer": "ipython3",
   "version": "3.13.5"
  }
 },
 "nbformat": 4,
 "nbformat_minor": 5
}
