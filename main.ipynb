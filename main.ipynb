{
 "cells": [
  {
   "cell_type": "markdown",
   "id": "d9adfdfe",
   "metadata": {},
   "source": [
    "# Trabalho de paralelismo\n",
    "### Simulação de Monte Carlo para aproximação de PI\n",
    "--- "
   ]
  },
  {
   "cell_type": "markdown",
   "id": "89689785",
   "metadata": {},
   "source": [
    "## Introdução ao problema\n",
    "\n",
    "A simulação de Monte Carlo é uma técnica estatística que utiliza amostragem aleatória para prever resultados em situações incertas permitindo análise mais fundamentada de riscos e proporcionando a tomada de decisões mais informadas.\n",
    "\n",
    "A técnica de Monte Carlo será utilizada para o seguinte problema de natureza geométrica: dado um quadrado de lado igual a uma unidade (1) desenha-se dentro dele um quarto de um círculo.\n",
    "\n",
    "![Imagem Ilustrativa do problema](/assets/image.png)\n",
    "\n",
    "Ao inserir pontos aletórios dentro do quadrado, alguns pontos podem estar dentro do círculo enquanto outros podem estar fora. A proporção de pontos dentro do círculo em relação ao total é igual a razão entre a área do círculo e a área do quadrado. \n",
    "\n",
    "Em termos matemáticos:\n",
    "\n",
    "$$\n",
    "\\text{ Área do círculo (contida no quadrado) } = \\frac{πr^{2}}{4}, r = 1\n",
    "$$\n",
    "$$\n",
    "\\text{ Área do quadrado } = 1^2 = 1\n",
    "$$\n",
    "$$\n",
    "\\frac{\\text{ Área do círculo }}{\\text{ Área do quadrado }} = \\frac{π}{4}\n",
    "$$\n",
    "\n",
    "Logo, se **P** é a probabilidade de um ponto cair dentro do círculo então:\n",
    "\n",
    "$$\n",
    "P ≈ \\frac{π}{4}\n",
    "$$\n",
    "$$\n",
    "π ≈ 4P  \n",
    "$$\n",
    "$$\n",
    "\\text{ ou }\n",
    "$$\n",
    "$$\n",
    " π ≈ 4 \\frac{\\text{ Nº de pontos dentro do círculo }}{\\text{ Total de pontos }}\n",
    "$$\n",
    "\n",
    "Portanto, cabe usar a técnica de Monte Carlo para geração de pontos aleatórios com fim de estimar o valor de π. A seguir serão apresentadas as abordagens serial e paralelizada do problema seguidas de análises a respeito da eficiência de cada implementação.\n",
    "\n",
    "---\n"
   ]
  },
  {
   "cell_type": "markdown",
   "id": "82ed845d",
   "metadata": {},
   "source": [
    "## Versão serial"
   ]
  },
  {
   "cell_type": "code",
   "execution_count": 11,
   "id": "a02c5c1d",
   "metadata": {},
   "outputs": [
    {
     "ename": "ModuleNotFoundError",
     "evalue": "No module named 'numpy'",
     "output_type": "error",
     "traceback": [
      "\u001b[31m---------------------------------------------------------------------------\u001b[39m",
      "\u001b[31mModuleNotFoundError\u001b[39m                       Traceback (most recent call last)",
      "\u001b[36mCell\u001b[39m\u001b[36m \u001b[39m\u001b[32mIn[11]\u001b[39m\u001b[32m, line 1\u001b[39m\n\u001b[32m----> \u001b[39m\u001b[32m1\u001b[39m \u001b[38;5;28;01mimport\u001b[39;00m\u001b[38;5;250m \u001b[39m\u001b[34;01mnumpy\u001b[39;00m\u001b[38;5;250m \u001b[39m\u001b[38;5;28;01mas\u001b[39;00m\u001b[38;5;250m \u001b[39m\u001b[34;01mnp\u001b[39;00m\n\u001b[32m      2\u001b[39m \u001b[38;5;28;01mimport\u001b[39;00m\u001b[38;5;250m \u001b[39m\u001b[34;01mtime\u001b[39;00m\n\u001b[32m      4\u001b[39m \u001b[38;5;66;03m# Criando matrizes grandes\u001b[39;00m\n",
      "\u001b[31mModuleNotFoundError\u001b[39m: No module named 'numpy'"
     ]
    }
   ],
   "source": [
    "import numpy as np\n",
    "import time\n",
    "\n",
    "# Criando matrizes grandes\n",
    "n = 1000\n",
    "A = np.random.rand(n, n)\n",
    "B = np.random.rand(n, n)\n",
    "\n",
    "def multiplicar_serial(A, B):\n",
    "    n = A.shape[0]\n",
    "    C = np.zeros((n, n))\n",
    "    for i in range(n):\n",
    "        for j in range(n):\n",
    "            for k in range(n):\n",
    "                C[i, j] += A[i, k] * B[k, j]\n",
    "    return C\n",
    "\n",
    "inicio = time.time()\n",
    "C = multiplicar_serial(A, B)\n",
    "fim = time.time()\n",
    "\n",
    "print(f\"Tempo serial: {fim - inicio:.2f} segundos\")\n"
   ]
  },
  {
   "cell_type": "markdown",
   "id": "a9ac8a1d",
   "metadata": {},
   "source": [
    "---\n",
    "\n",
    "## Versão paralela"
   ]
  },
  {
   "cell_type": "code",
   "execution_count": null,
   "id": "6ded0d9e",
   "metadata": {},
   "outputs": [],
   "source": [
    "import random\n",
    "import time\n",
    "from concurrent.futures import ThreadPoolExecutor\n",
    "\n",
    "def contar_pontos_circulo(num_pontos):\n",
    "    dentro_circulo = 0\n",
    "    for _ in range (num_pontos):\n",
    "        x = random.random()\n",
    "        y = random.random()\n",
    "        if x*x + y*y <=1 :\n",
    "            dentro_circulo += 1\n",
    "    return dentro_circulo"
   ]
  },
  {
   "cell_type": "markdown",
   "id": "7c70222e",
   "metadata": {},
   "source": [
    "### Breve explicação: equação do Círculo\n",
    "\n",
    "A condicional presente no método de contagem dos pontos é baseada na seguinte équação de círculo de raio **r** centrado na origem (0,0):\n",
    "$$\n",
    "x^2 + y^2 = r^2\n",
    "$$\n",
    "\n",
    "Isso significa que qualquer ponto no plano que satisfaz a seguinte inequação está dentro ou sobre o círculo para r = 1:\n",
    "$$\n",
    "x^2 + y^2 \\le 1\n",
    "$$\n"
   ]
  },
  {
   "cell_type": "code",
   "execution_count": null,
   "id": "9d34b88b",
   "metadata": {},
   "outputs": [
    {
     "name": "stdout",
     "output_type": "stream",
     "text": [
      "π ≈ 3.1414688\n",
      "Tempo paralelo: 1.62 segundos\n"
     ]
    }
   ],
   "source": [
    "if __name__ == \"__main__\":\n",
    "    total_pontos = 10_000_000\n",
    "    n_processos = 4\n",
    "    pontos_por_processo = total_pontos // n_processos\n",
    "\n",
    "    inicio = time.time()\n",
    "    with ThreadPoolExecutor(max_workers=n_processos) as executor:\n",
    "        resultados = list(executor.map(contar_pontos_circulo, [pontos_por_processo]*n_processos))\n",
    "    dentro_circulo_total = sum(resultados)\n",
    "\n",
    "    pi = 4 * dentro_circulo_total / total_pontos\n",
    "    fim = time.time()\n",
    "\n",
    "    print(f\"π ≈ {pi}\")\n",
    "    print(f\"Tempo paralelo: {fim - inicio:.2f} segundos\")"
   ]
  }
 ],
 "metadata": {
  "kernelspec": {
   "display_name": "Python 3",
   "language": "python",
   "name": "python3"
  },
  "language_info": {
   "codemirror_mode": {
    "name": "ipython",
    "version": 3
   },
   "file_extension": ".py",
   "mimetype": "text/x-python",
   "name": "python",
   "nbconvert_exporter": "python",
   "pygments_lexer": "ipython3",
   "version": "3.13.5"
  }
 },
 "nbformat": 4,
 "nbformat_minor": 5
}
